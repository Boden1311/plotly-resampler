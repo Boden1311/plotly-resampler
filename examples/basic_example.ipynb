{
 "cells": [
  {
   "cell_type": "code",
   "execution_count": null,
   "id": "6a8b1d54-106c-4f89-842d-c1aa0b136a42",
   "metadata": {},
   "outputs": [],
   "source": [
    "%load_ext autoreload\n",
    "%autoreload 2\n"
   ]
  },
  {
   "cell_type": "code",
   "execution_count": null,
   "id": "e42a2898-75c8-4e0a-af91-14a7d497e603",
   "metadata": {},
   "outputs": [],
   "source": [
    "import pandas as pd\n",
    "import numpy as np\n",
    "\n",
    "import plotly.graph_objects as go\n",
    "from plotly.subplots import make_subplots\n",
    "from datetime import datetime\n",
    "\n",
    "from helper import groupby_consecutive\n",
    "\n",
    "import sys\n",
    "\n",
    "sys.path.append(\"..\")\n",
    "from plotly_resampler import FigureResampler, FigureWidgetResampler, EveryNthPoint\n"
   ]
  },
  {
   "cell_type": "markdown",
   "id": "45398797",
   "metadata": {},
   "source": [
    "# Adding dynamic aggregation to your plotly Figure"
   ]
  },
  {
   "cell_type": "code",
   "execution_count": null,
   "id": "9c5d1e2f",
   "metadata": {},
   "outputs": [],
   "source": [
    "# Some dummy data that will be used throughout the examples\n",
    "n = 2_000_000\n",
    "x = np.arange(n)\n",
    "noisy_sine = (3 + np.sin(x / 2000) + np.random.randn(n) / 10) * x / 1000\n"
   ]
  },
  {
   "cell_type": "markdown",
   "id": "fa10538c",
   "metadata": {
    "collapsed": false,
    "pycharm": {
     "name": "#%%\n"
    }
   },
   "source": [
    "## **auto mode**: `register_plotly_resampler`"
   ]
  },
  {
   "cell_type": "markdown",
   "id": "ffdf4c2b",
   "metadata": {},
   "source": [
    "Once `register_plotly_resampler` method is called, it will automatically convert all new defined plotly graph objects into a `FigureResampler` or `FigureWidgetResampler` object. The `mode` parameter of this method allows to define which type of the aforementioned resampling objects is used.\n",
    "\n",
    "✅ **advantages**:\n",
    "* This is the most convenient way to make your existing codebase more scalable\n",
    "* You can keep on using your regular graph construction code\n",
    "\n",
    "❌ **disadvantages**:\n",
    "* all figures will be wrapped with plotly-resampler behavior (less control)\n",
    "* if you want to go the extra mile regarding graph construction performance, it is better to use the `FigureResampler` or `FigureWidgetResampler` components individually."
   ]
  },
  {
   "cell_type": "code",
   "execution_count": null,
   "id": "b81403ca",
   "metadata": {},
   "outputs": [],
   "source": [
    "from plotly_resampler import register_plotly_resampler, unregister_plotly_resampler\n"
   ]
  },
  {
   "cell_type": "code",
   "execution_count": null,
   "id": "0371d1f3",
   "metadata": {},
   "outputs": [],
   "source": [
    "# by default, 1,000 samples per trace are shown\n",
    "register_plotly_resampler(mode=\"auto\", default_n_shown_samples=4500)\n"
   ]
  },
  {
   "cell_type": "code",
   "execution_count": null,
   "id": "0f4656be",
   "metadata": {},
   "outputs": [],
   "source": [
    "# auto mode: when working in an IPython environment, this will automatically be a\n",
    "# FigureWidgetResampler else, this will be an FigureResampler\n",
    "fig = go.Figure()\n",
    "fig.add_trace({\"y\": noisy_sine + 2, \"name\": \"yp2\", \"showlegend\": True})\n",
    "print(type(fig))\n",
    "fig\n"
   ]
  },
  {
   "cell_type": "markdown",
   "id": "e20add02",
   "metadata": {},
   "source": [
    "❗ `.show()` always returns a static html view"
   ]
  },
  {
   "cell_type": "code",
   "execution_count": null,
   "id": "0f4656be",
   "metadata": {},
   "outputs": [],
   "source": [
    "# this outputs a static html view of the figure, which can be serialized within notebooks\n",
    "fig.show()\n"
   ]
  },
  {
   "cell_type": "markdown",
   "id": "382d04ec",
   "metadata": {},
   "source": [
    "### pro tip: `register_plotly_resampler` + pandas plotting backend = 🔥"
   ]
  },
  {
   "cell_type": "markdown",
   "id": "04a5919e",
   "metadata": {},
   "source": [
    "The combo below allows to conveniently visualize large time_series data"
   ]
  },
  {
   "cell_type": "code",
   "execution_count": null,
   "id": "88556465",
   "metadata": {},
   "outputs": [],
   "source": [
    "register_plotly_resampler(mode=\"auto\", default_n_shown_samples=1500)\n",
    "# pd.options.plotting.backend = 'plotly'\n"
   ]
  },
  {
   "cell_type": "code",
   "execution_count": null,
   "id": "08dc25ff",
   "metadata": {},
   "outputs": [],
   "source": [
    "df = pd.DataFrame(data={\"sine\": noisy_sine, \"neg-sine\": -noisy_sine}, copy=False)\n",
    "df\n"
   ]
  },
  {
   "cell_type": "code",
   "execution_count": null,
   "id": "f10cd857",
   "metadata": {},
   "outputs": [],
   "source": [
    "# TODO: for some reason pandas plotting backend + datetime index work really slow\n",
    "# df.index = pd.date_range(start=\"2020-01-01\", periods=len(df), freq=\"1s\")"
   ]
  },
  {
   "cell_type": "code",
   "execution_count": null,
   "id": "67251df5",
   "metadata": {},
   "outputs": [],
   "source": [
    "df.plot(backend=\"plotly\")\n"
   ]
  },
  {
   "cell_type": "code",
   "execution_count": null,
   "id": "e5c7b3e6",
   "metadata": {},
   "outputs": [],
   "source": [
    "unregister_plotly_resampler()"
   ]
  },
  {
   "cell_type": "markdown",
   "id": "54079ce0",
   "metadata": {},
   "source": [
    "## **manual mode**: Basic sine example\n"
   ]
  },
  {
   "cell_type": "markdown",
   "id": "3312e7e5",
   "metadata": {},
   "source": [
    "\n",
    "✅ **advantages**:\n",
    "* Highly configurable (e.g., downsampler per trace, number of shown sample per trace)\n",
    "* Most optimizable (by leveraging the `hf_` arguments)\n",
    "\n",
    "❌ **disadvantages**:\n",
    "* more tedious (more code needs to be written)\n",
    "\n",
    "This example shows how the `FigureResampler` can be used to efficiently construct a graph"
   ]
  },
  {
   "cell_type": "code",
   "execution_count": null,
   "id": "ef449619",
   "metadata": {},
   "outputs": [],
   "source": [
    "# 1. Wrap the figure with the FigureResampler class\n",
    "fig = FigureResampler(go.Figure())\n",
    "\n",
    "# Add the trace using the `hf_x` & `hf_y` for faster rendering\n",
    "# (this does not impact the resampling speed once rendered)\n",
    "fig.add_trace(go.Scattergl(showlegend=True), hf_x=x, hf_y=noisy_sine, max_n_samples=300)\n",
    "# fig.add_trace(go.Scattergl(x=x, y=noisy_sine))\n",
    "\n",
    "# Optional: update the layout\n",
    "fig.update_layout(height=400, template=\"plotly_dark\")\n",
    "\n",
    "# 2. Call show_dash\n",
    "fig.show_dash(mode=\"inline\")\n"
   ]
  },
  {
   "cell_type": "markdown",
   "id": "7d828610",
   "metadata": {},
   "source": [
    "For the `FigureWidgetResampler` use case, you only need to chance way of displaying the figure"
   ]
  },
  {
   "cell_type": "code",
   "execution_count": null,
   "id": "ef449619",
   "metadata": {},
   "outputs": [],
   "source": [
    "# Same content as above, but using the FigureWidgetResampler class\n",
    "fig = FigureWidgetResampler(go.Figure())\n",
    "fig.add_trace(go.Scattergl(showlegend=True), hf_x=x, hf_y=noisy_sine, max_n_samples=900)\n",
    "fig.update_layout(height=400, template=\"plotly_dark\")\n",
    "\n",
    "# Displaying the figure -> instead of `show_dash`, use IPython's `display`\n",
    "display(fig)\n"
   ]
  },
  {
   "cell_type": "markdown",
   "id": "9bfc2726",
   "metadata": {},
   "source": [
    "## Advanced stuff"
   ]
  },
  {
   "cell_type": "markdown",
   "id": "b997c178",
   "metadata": {},
   "source": [
    "### Adjusting the data of your plotly-resampler figure at runtime"
   ]
  },
  {
   "cell_type": "markdown",
   "id": "28f10919",
   "metadata": {},
   "source": [
    "The `hf_data` property of the `FigureResampler` / `FigureWidgetResampler` can be used to change figure data at runtime"
   ]
  },
  {
   "cell_type": "markdown",
   "id": "d0ce62a4",
   "metadata": {},
   "source": [
    "#### `FigureResampler`"
   ]
  },
  {
   "cell_type": "code",
   "execution_count": null,
   "id": "499ac9f3",
   "metadata": {},
   "outputs": [],
   "source": [
    "fig = FigureResampler(go.Figure())\n",
    "fig.add_trace(go.Scattergl(showlegend=True, name=\"noisy_sine\"), hf_y=noisy_sine)\n",
    "display(fig.hf_data)\n",
    "fig.show_dash(mode=\"inline\")\n"
   ]
  },
  {
   "cell_type": "markdown",
   "id": "6bffa11a",
   "metadata": {},
   "source": [
    "now we adjust the figure data  \n",
    "**note**: after running the cell below, we need to manually trigger a graph update (by for example zooming / resetting the axes) to ensure that the new data is shown."
   ]
  },
  {
   "cell_type": "code",
   "execution_count": null,
   "id": "94127fae",
   "metadata": {},
   "outputs": [],
   "source": [
    "fig.hf_data[0][\"y\"] = -10 * noisy_sine\n",
    "# make sure to interact win the figure to see the change\n"
   ]
  },
  {
   "cell_type": "markdown",
   "id": "784d8464",
   "metadata": {},
   "source": [
    "#### `FigureWidgetResampler`"
   ]
  },
  {
   "cell_type": "code",
   "execution_count": null,
   "id": "9a0a0870",
   "metadata": {},
   "outputs": [],
   "source": [
    "fig = FigureWidgetResampler(go.Figure())\n",
    "fig.add_trace(go.Scattergl(showlegend=True, name=\"noisy_sine\"), hf_y=noisy_sine)\n",
    "display(fig.hf_data)\n",
    "display(fig)\n"
   ]
  },
  {
   "cell_type": "markdown",
   "id": "22687274",
   "metadata": {},
   "source": [
    "now we adjust the figure data  \n",
    "**note**: after running the cell below, we need to manually trigger a graph update (by for example zooming / resetting the axes) to ensure that the new data is shown."
   ]
  },
  {
   "cell_type": "code",
   "execution_count": null,
   "id": "850abc7c",
   "metadata": {},
   "outputs": [],
   "source": [
    "fig.hf_data[0][\"y\"] = 10 * noisy_sine**2\n"
   ]
  },
  {
   "cell_type": "markdown",
   "id": "f4130fac",
   "metadata": {},
   "source": [
    "**pro tip**: `FigureWidgetResampler` has the `reload_data` and `reset_axes` methods to do this automatically"
   ]
  },
  {
   "cell_type": "code",
   "execution_count": null,
   "id": "726f0c08",
   "metadata": {},
   "outputs": [],
   "source": [
    "fig.hf_data[0][\"y\"] = -10 * noisy_sine**2\n",
    "# the reload data function keeps the current zoom level\n",
    "fig.reload_data()\n"
   ]
  },
  {
   "cell_type": "code",
   "execution_count": null,
   "id": "8cbfca3d",
   "metadata": {},
   "outputs": [],
   "source": [
    "fig.hf_data[0][\"y\"] = 10 * noisy_sine**.1\n",
    "# the reset axes\n",
    "fig.reset_axes()\n"
   ]
  },
  {
   "cell_type": "markdown",
   "id": "500c5303",
   "metadata": {},
   "source": [
    "---"
   ]
  },
  {
   "cell_type": "markdown",
   "id": "192a74fb",
   "metadata": {},
   "source": [
    "# Various other examples"
   ]
  },
  {
   "cell_type": "markdown",
   "id": "c7962301",
   "metadata": {},
   "source": [
    "The visualizations below shows how you plotly-resampler is used for various visualization configurations."
   ]
  },
  {
   "cell_type": "markdown",
   "id": "62535963",
   "metadata": {
    "tags": []
   },
   "source": [
    "## The example `.gif` from the docs/README"
   ]
  },
  {
   "cell_type": "markdown",
   "id": "d2f83be8",
   "metadata": {},
   "source": [
    "Note how:\n",
    "* The example figure withholds both time-indexed data and numeric-indexed data\n",
    "* The power-consumption data uses `2,000` samples per trace (`max_n_samples`), whilst the other signals use the default of `1,000` samples per trace.\n",
    "* The swimming pool trace uses another downsampling method (`EveryNthPoint`)\n",
    "* The swimming pool trace uses `hf_hovertext` which shows the mean # of pool visitors of the last hour. \n"
   ]
  },
  {
   "cell_type": "code",
   "execution_count": null,
   "id": "7384c081-a733-41e5-a80c-99b7b31d0520",
   "metadata": {},
   "outputs": [],
   "source": [
    "# ------------ loading the data -----------\n",
    "df_gusb = pd.read_parquet(\"data/df_gusb.parquet\")\n",
    "df_data_pc = pd.read_parquet(\"data/df_pc_test.parquet\")\n",
    "\n",
    "# Create a noisy sine\n",
    "n = 110_000_00  # 0\n",
    "x = np.arange(n)\n",
    "noisy_sine = (3 + np.sin(x / 200_000) + np.random.randn(n) / 10) * x / 100_000\n"
   ]
  },
  {
   "cell_type": "code",
   "execution_count": null,
   "id": "c1f1d9a2-63a1-484e-a346-ae6b04c997b6",
   "metadata": {
    "tags": []
   },
   "outputs": [],
   "source": [
    "fig = FigureResampler(\n",
    "    make_subplots(\n",
    "        rows=2,\n",
    "        cols=2,\n",
    "        specs=[[{}, {}], [{\"colspan\": 2}, None]],\n",
    "        subplot_titles=(\"GUSB swimming pool\", \"Generated sine\", \"Power consumption\"),\n",
    "        vertical_spacing=0.12,\n",
    "    ),\n",
    "    default_n_shown_samples=1000,\n",
    "    verbose=False,\n",
    ")\n",
    "\n",
    "\n",
    "# ------------ swimming pool data -----------\n",
    "df_gusb_pool = df_gusb[\"zwembad\"].last(\"4D\").dropna()\n",
    "fig.add_trace(\n",
    "    go.Scattergl(\n",
    "        x=df_gusb_pool.index,\n",
    "        y=df_gusb_pool.astype(\"uint16\"),\n",
    "        mode=\"markers\",\n",
    "        marker_size=5,\n",
    "        name=\"occupancy\",\n",
    "        # showlegend=False,\n",
    "    ),\n",
    "    hf_hovertext=\"mean last hour: \"\n",
    "    + df_gusb_pool.rolling(\"1h\").mean().astype(int).astype(str),\n",
    "    downsampler=EveryNthPoint(interleave_gaps=False),\n",
    "    row=1,\n",
    "    col=1,\n",
    ")\n",
    "fig.update_yaxes(title_text=\"Occupancy\", row=1, col=1)\n",
    "\n",
    "\n",
    "# ----------------- generated sine -----------\n",
    "fig.add_trace(\n",
    "    go.Scattergl(name=\"sin\", line_color=\"#26b2e0\"),\n",
    "    hf_x=x,\n",
    "    hf_y=noisy_sine,\n",
    "    row=1,\n",
    "    col=2,\n",
    ")\n",
    "\n",
    "# ------------- Power consumption data -------------\n",
    "df_data_pc = df_data_pc.last(\"190D\")\n",
    "for i, c in enumerate(df_data_pc.columns):\n",
    "    fig.add_trace(\n",
    "        go.Scattergl(name=f\"R-{i+1}\", line_width=1),\n",
    "        hf_x=df_data_pc.index,\n",
    "        hf_y=df_data_pc[c],\n",
    "        max_n_samples=2_000,  # The power consumption data uses 2,000 samples per trace\n",
    "        row=2,\n",
    "        col=1,\n",
    "    )\n",
    "\n",
    "fig.update_layout(height=650)\n",
    "fig.update_yaxes(title_text=\"Watt/hour\", row=2, col=1)\n",
    "fig.update_layout(\n",
    "    title=\"<b>Plotly-Resampler demo</b>\",\n",
    "    title_x=0.5,\n",
    "    legend_traceorder=\"normal\",\n",
    "    legend=dict(orientation=\"h\", y=1.11, xanchor=\"left\", x=0),\n",
    ")\n",
    "\n",
    "fig.show_dash(mode=\"inline\", debug=True, port=9029)\n"
   ]
  },
  {
   "cell_type": "markdown",
   "id": "28b02cff",
   "metadata": {},
   "source": [
    "## Converting a `go.Figure`, with its traces, into a `FigureResampler`"
   ]
  },
  {
   "cell_type": "markdown",
   "id": "20b9cef4",
   "metadata": {},
   "source": [
    "This example first creates the `.gif` figure (with less data, otherwise the graph construction time would be too long) and then uses the  `convert_existing_traces` argument of the FigureResampler constructor to convert this into a FigureResampler figure."
   ]
  },
  {
   "cell_type": "code",
   "execution_count": null,
   "id": "4e239eda",
   "metadata": {},
   "outputs": [],
   "source": [
    "from plotly_resampler import unregister_plotly_resampler\n",
    "unregister_plotly_resampler()"
   ]
  },
  {
   "cell_type": "code",
   "execution_count": null,
   "id": "0941f11a",
   "metadata": {},
   "outputs": [],
   "source": [
    "df_gusb = pd.read_parquet(f\"data/df_gusb.parquet\")\n",
    "df_data_pc = pd.read_parquet(f\"data/df_pc_test.parquet\")\n",
    "\n",
    "n = 110_000\n",
    "x = np.arange(n)\n",
    "noisy_sine = (3 + np.sin(x / 2_000) + np.random.randn(n) / 10) * x / 2_000\n",
    "\n",
    "# construct a normal figure object instead of a figureResample object\n",
    "fig = make_subplots(\n",
    "    rows=2,\n",
    "    cols=2,\n",
    "    specs=[[{}, {}], [{\"colspan\": 2}, None]],\n",
    "    subplot_titles=(\"GUSB swimming pool\", \"Generated sine\", \"Power consumption\"),\n",
    "    vertical_spacing=0.12,\n",
    ")\n",
    "\n",
    "\n",
    "# ------------ swimming pool data -----------\n",
    "df_gusb_pool = df_gusb[\"zwembad\"].last(\"4D\").dropna()\n",
    "fig.add_trace(\n",
    "    go.Scattergl(\n",
    "        x=df_gusb_pool.index,\n",
    "        y=df_gusb_pool,  # .astype(\"uint16\"),\n",
    "        mode=\"markers\",\n",
    "        marker_size=5,\n",
    "        name=\"occupancy\",\n",
    "        showlegend=True,\n",
    "        hovertext=\"mean last hour: \"\n",
    "        + df_gusb_pool.rolling(\"1h\").mean().astype(int).astype(str),\n",
    "    ),\n",
    "    # downsampler=EveryNthPoint(interleave_gaps=False),\n",
    "    row=1,\n",
    "    col=1,\n",
    ")\n",
    "fig.update_yaxes(title_text=\"Occupancy\", row=1, col=1)\n",
    "\n",
    "\n",
    "# ----------------- generated sine -----------\n",
    "fig.add_trace(\n",
    "    go.Scattergl(name=\"sin\", line_color=\"#26b2e0\", x=x, y=noisy_sine),\n",
    "    row=1,\n",
    "    col=2,\n",
    ")\n",
    "\n",
    "# ------------- Power consumption data -------------\n",
    "df_data_pc = df_data_pc.last(\"50D\")\n",
    "for i, c in enumerate(df_data_pc.columns):\n",
    "    fig.add_trace(\n",
    "        go.Scattergl(\n",
    "            name=f\"room {i+1}\",\n",
    "            x=df_data_pc.index,\n",
    "            y=df_data_pc[c],\n",
    "        ),\n",
    "        row=2,\n",
    "        col=1,\n",
    "    )\n",
    "\n",
    "fig.update_layout(height=600)\n",
    "fig.update_yaxes(title_text=\"Watt/hour\", row=2, col=1)\n",
    "fig.update_layout(\n",
    "    title=\"<b>Plotly-Resampler demo - fig base</b>\",\n",
    "    title_x=0.5,\n",
    "    legend_traceorder=\"normal\",\n",
    "    legend=dict(orientation=\"h\", y=1.11, xanchor=\"left\", x=0),\n",
    ")\n"
   ]
  },
  {
   "cell_type": "markdown",
   "id": "b863e42c",
   "metadata": {},
   "source": [
    "Note how the `data` property shape is the raw data size"
   ]
  },
  {
   "cell_type": "code",
   "execution_count": null,
   "id": "ad0a05d3",
   "metadata": {},
   "outputs": [],
   "source": [
    "fig.data[1][\"x\"].shape\n"
   ]
  },
  {
   "cell_type": "code",
   "execution_count": null,
   "id": "c38f7f52",
   "metadata": {},
   "outputs": [],
   "source": [
    "# Convert the figure into a figurResampler figure by decorating it\n",
    "fr_fig = FigureResampler(fig, default_n_shown_samples=500, convert_existing_traces=True)\n",
    "fr_fig.show_dash(mode=\"inline\")\n"
   ]
  },
  {
   "cell_type": "code",
   "execution_count": null,
   "id": "dbfa7ef8",
   "metadata": {},
   "outputs": [],
   "source": [
    "print(\"aggregated data    \", fr_fig.data[1][\"x\"].shape)\n",
    "print(\"raw data (hf_data) \", fr_fig.hf_data[1][\"x\"].shape)\n",
    "\n",
    "# The data-shape of the original figure stil remains the same\n",
    "fig.data[1][\"x\"].shape"
   ]
  },
  {
   "cell_type": "markdown",
   "id": "f46d0691",
   "metadata": {},
   "source": [
    "**Note**:\n",
    "* the data size of `fr_fig` is reduced to `default_n_shown_samples` (_500_) but the original `fig` data is still equal to `110_000`.\n",
    "* the raw data can be accessed and altered using the `hf_data` of the FigureResampler object ⬇️\n"
   ]
  },
  {
   "cell_type": "code",
   "execution_count": null,
   "id": "d7c10446",
   "metadata": {},
   "outputs": [],
   "source": [
    "# We flip and take the sqarquere root of the data\n",
    "fr_fig.hf_data[1][\"y\"] = -(noisy_sine**2)\n",
    "\n",
    "# Make sure to interact witht he `Generated sine` subplot to see the changes"
   ]
  },
  {
   "cell_type": "markdown",
   "id": "dd77941a",
   "metadata": {
    "tags": []
   },
   "source": [
    "## Skin conductance example"
   ]
  },
  {
   "cell_type": "markdown",
   "id": "2ea4e74a",
   "metadata": {},
   "source": [
    "This example is especially interesting as it **uses a _background-color_ to indicate a signal quality**.\n",
    "\n",
    "To ensure the consistency of this background color use; we set `interleave_gaps` to False for the signal quality trace its downsampler.\n"
   ]
  },
  {
   "cell_type": "code",
   "execution_count": null,
   "id": "3cc6fef1",
   "metadata": {},
   "outputs": [],
   "source": [
    "df_gsr = pd.read_parquet(\"data/processed_gsr.parquet\")\n"
   ]
  },
  {
   "cell_type": "code",
   "execution_count": null,
   "id": "71758f03",
   "metadata": {},
   "outputs": [],
   "source": [
    "fig = FigureResampler(\n",
    "    make_subplots(\n",
    "        rows=2,\n",
    "        cols=1,\n",
    "        specs=[[{\"secondary_y\": True}], [{}]],\n",
    "        shared_xaxes=True,\n",
    "    ),\n",
    "    default_n_shown_samples=1_000,\n",
    "    verbose=False,\n",
    ")\n",
    "fig.update_layout(height=600, title=\"skin conductance example\", title_x=0.5)\n",
    "\n",
    "\n",
    "# -------------------------------- ROW 1 --------------------------------\n",
    "# Add the skin conductance signals\n",
    "for c in [\"EDA\", \"EDA_lf_cleaned\", \"EDA_lf_cleaned_tonic\"]:\n",
    "    fig.add_trace(go.Scattergl(name=c), hf_x=df_gsr.index, hf_y=df_gsr[c], row=1, col=1)\n",
    "\n",
    "\n",
    "# Show the Skin Conductance Response Peaks (SCR)\n",
    "df_peaks = df_gsr[df_gsr[\"SCR_Peaks_neurokit_reduced_acc\"] == 1]\n",
    "fig.add_trace(\n",
    "    trace=go.Scattergl(\n",
    "        x=df_peaks.index,\n",
    "        y=df_peaks[\"EDA_lf_cleaned\"],\n",
    "        visible=\"legendonly\",\n",
    "        mode=\"markers\",\n",
    "        marker_symbol=\"cross\",\n",
    "        marker_size=15,\n",
    "        marker_color=\"red\",\n",
    "        name=\"SCR peaks\",\n",
    "    ),\n",
    "    # Set limit_to_view to true so that the peaks disappear when out-of view-range\n",
    "    # and thus not disturb the autoscale!!!\n",
    "    limit_to_view=True,\n",
    ")\n",
    "\n",
    "\n",
    "# Display the skin conductance Signal Quality as background\n",
    "df_grouped = groupby_consecutive(df_gsr[\"EDA_SQI\"])\n",
    "df_grouped[\"EDA_SQI\"] = df_grouped[\"EDA_SQI\"].map(bool)\n",
    "df_grouped[\"good_sqi\"] = df_grouped[\"EDA_SQI\"].map(int)\n",
    "df_grouped[\"bad_sqi\"] = (~df_grouped[\"EDA_SQI\"]).map(int)\n",
    "for sqi_col, col_or in [\n",
    "    (\"good_sqi\", \"#2ca02c\"),\n",
    "    (\"bad_sqi\", \"#d62728\"),\n",
    "]:\n",
    "    fig.add_trace(\n",
    "        go.Scattergl(\n",
    "            x=df_grouped[\"start\"],\n",
    "            y=df_grouped[sqi_col],\n",
    "            mode=\"lines\",\n",
    "            line_width=0,\n",
    "            fill=\"tozeroy\",\n",
    "            fillcolor=col_or,\n",
    "            opacity=0.1 if \"good\" in sqi_col else 0.2,\n",
    "            line_shape=\"hv\",\n",
    "            name=sqi_col,\n",
    "            showlegend=False,\n",
    "        ),\n",
    "        # The most important thing here is that interleave gaps is set to True\n",
    "        # Additionally, the limit-to-view also ensures that the autoscale is not\n",
    "        # disturbed.\n",
    "        # downsampler=EveryNthPoint(interleave_gaps=False),\n",
    "        limit_to_view=True,\n",
    "        secondary_y=True,\n",
    "    )\n",
    "\n",
    "\n",
    "# -------------------------------- ROW 2 --------------------------------\n",
    "# show the phasic EDA component\n",
    "fig.add_trace(\n",
    "    go.Scattergl(name=\"EDA_Phasic\", visible=\"legendonly\"),\n",
    "    hf_x=df_gsr.index,\n",
    "    hf_y=df_gsr[\"EDA_Phasic\"],\n",
    "    row=2,\n",
    "    col=1,\n",
    ")\n",
    "\n",
    "fig.show_dash(mode=\"inline\", port=9022)\n"
   ]
  },
  {
   "cell_type": "markdown",
   "id": "2cfd9b5f-58c8-4711-9dc0-aa326a81fef9",
   "metadata": {
    "tags": []
   },
   "source": [
    "## Categorical series - box & histogram"
   ]
  },
  {
   "cell_type": "markdown",
   "id": "d75f128f",
   "metadata": {},
   "source": [
    "This example highlights how `plotly-resampler` supports combining high-frequency trace-subplots \n",
    "with non-scatterlike traces such as a histogram & a boxplot."
   ]
  },
  {
   "cell_type": "code",
   "execution_count": null,
   "id": "fe548e0a-8f20-4b01-beec-ded7de144995",
   "metadata": {},
   "outputs": [],
   "source": [
    "# Create a categorical series, with mostly a's, but a few sparse b's and c's\n",
    "cats_list = np.array(list(\"aaaaaaaaaa\" * 1000))\n",
    "cats_list[np.random.choice(len(cats_list), 100, replace=False)] = \"b\"\n",
    "cats_list[np.random.choice(len(cats_list), 50, replace=False)] = \"c\"\n",
    "cat_series = pd.Series(\n",
    "    cats_list,\n",
    "    dtype=\"category\",\n",
    ")\n",
    "\n",
    "_nb_samples = 30_000\n",
    "x = np.arange(_nb_samples).astype(np.uint32)\n",
    "y = np.sin(x / 300).astype(np.float32) + np.random.randn(_nb_samples) / 5\n",
    "float_series = pd.Series(index=x, data=y)\n"
   ]
  },
  {
   "cell_type": "code",
   "execution_count": null,
   "id": "38b1f6b7-896e-48a3-a4b2-91a2bfa2f58b",
   "metadata": {},
   "outputs": [],
   "source": [
    "base_fig = make_subplots(\n",
    "    rows=2,\n",
    "    cols=2,\n",
    "    specs=[[{}, {}], [{\"colspan\": 2}, None]],\n",
    ")\n",
    "fig = FigureResampler(base_fig, default_n_shown_samples=1000, verbose=False)\n",
    "\n",
    "fig.add_trace(\n",
    "    go.Scattergl(name=\"cat_series\"),\n",
    "    hf_x=cat_series.index,\n",
    "    hf_y=cat_series,\n",
    "    row=1,\n",
    "    col=1,\n",
    "    hf_hovertext=\"text\",\n",
    ")\n",
    "\n",
    "fig.add_trace(go.Box(x=float_series.values, name=\"float_series\"), row=1, col=2)\n",
    "fig.add_trace(go.Box(x=float_series.values**2, name=\"float_series**2\"), row=1, col=2)\n",
    "\n",
    "# add a not hf-trace\n",
    "fig.add_trace(\n",
    "    go.Histogram(\n",
    "        x=float_series,\n",
    "        name=\"float_series\",\n",
    "    ),\n",
    "    row=2,\n",
    "    col=1,\n",
    ")\n",
    "fig.show_dash(mode=\"inline\", port=9032)\n"
   ]
  },
  {
   "cell_type": "code",
   "execution_count": null,
   "id": "336f4a9f",
   "metadata": {},
   "outputs": [],
   "source": []
  }
 ],
 "metadata": {
  "kernelspec": {
   "display_name": "Python 3.10.5 ('plotly-resampler-iCtYrdpr-py3.10')",
   "language": "python",
   "name": "python3"
  },
  "language_info": {
   "codemirror_mode": {
    "name": "ipython",
    "version": 3
   },
   "file_extension": ".py",
   "mimetype": "text/x-python",
   "name": "python",
   "nbconvert_exporter": "python",
   "pygments_lexer": "ipython3",
   "version": "3.10.5"
  },
  "toc-autonumbering": true,
  "vscode": {
   "interpreter": {
    "hash": "c5b971a1081d8490aaab9267c6f84945436f3f61058bbf7fd4d457e74012adc4"
   }
  }
 },
 "nbformat": 4,
 "nbformat_minor": 5
}
