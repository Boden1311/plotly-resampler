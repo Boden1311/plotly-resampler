{
 "cells": [
  {
   "cell_type": "code",
   "execution_count": 3,
   "id": "6a8b1d54-106c-4f89-842d-c1aa0b136a42",
   "metadata": {},
   "outputs": [
    {
     "name": "stdout",
     "output_type": "stream",
     "text": [
      "The autoreload extension is already loaded. To reload it, use:\n",
      "  %reload_ext autoreload\n"
     ]
    }
   ],
   "source": [
    "%load_ext autoreload\n",
    "%autoreload 2"
   ]
  },
  {
   "cell_type": "code",
   "execution_count": 4,
   "id": "e42a2898-75c8-4e0a-af91-14a7d497e603",
   "metadata": {},
   "outputs": [
    {
     "name": "stderr",
     "output_type": "stream",
     "text": [
      "/home/jonas/git/gIDLab/plotly-dynamic-resampling/.venv/lib/python3.9/site-packages/dash_bootstrap_components/_table.py:5: UserWarning: \n",
      "The dash_html_components package is deprecated. Please replace\n",
      "`import dash_html_components as html` with `from dash import html`\n",
      "  import dash_html_components as html\n"
     ]
    }
   ],
   "source": [
    "import pandas as pd\n",
    "import numpy as np\n",
    "\n",
    "import plotly.graph_objects as go\n",
    "from plotly.subplots import make_subplots\n",
    "\n",
    "from helper import groupby_consecutive\n",
    "\n",
    "import sys\n",
    "sys.path.append('..')\n",
    "from plotly_resampler import FigureResampler\n",
    "from plotly_resampler.downsamplers import EveryNthPoint, LTTB"
   ]
  },
  {
   "cell_type": "markdown",
   "id": "62535963",
   "metadata": {},
   "source": [
    "# The exmample from the `.gif`"
   ]
  },
  {
   "cell_type": "code",
   "execution_count": 5,
   "id": "7384c081-a733-41e5-a80c-99b7b31d0520",
   "metadata": {},
   "outputs": [],
   "source": [
    "df_gusb = pd.read_parquet(\"data/df_gusb.parquet\", engine='fastparquet')\n",
    "df_data_pc = pd.read_parquet(\"data/df_pc_test.parquet\", engine='fastparquet')\n",
    "\n",
    "n = 110_000_000\n",
    "np_series = np.array(\n",
    "    (3 + np.sin(np.arange(n) / 200_000) + np.random.randn(n) / 10) * np.arange(n) / 100_000,\n",
    "    dtype=np.float32,\n",
    ")\n",
    "x = np.arange(len(np_series))"
   ]
  },
  {
   "cell_type": "code",
   "execution_count": 6,
   "id": "c1f1d9a2-63a1-484e-a346-ae6b04c997b6",
   "metadata": {
    "tags": []
   },
   "outputs": [
    {
     "name": "stdout",
     "output_type": "stream",
     "text": [
      "Dash app running on http://127.0.0.1:9033/\n"
     ]
    }
   ],
   "source": [
    "fig = FigureResampler(\n",
    "    make_subplots(\n",
    "        rows=2,\n",
    "        cols=2,\n",
    "        specs=[[{}, {}], [{\"colspan\": 2}, None]],\n",
    "        subplot_titles=(\"GUSB swimming pool\", \"Generated sine\", \"Power consumption\"),\n",
    "        vertical_spacing=0.12,\n",
    "    ),\n",
    "    default_n_shown_samples=1_000,\n",
    "    verbose=False,\n",
    ")\n",
    "\n",
    "\n",
    "# ------------ swimming pool data -----------\n",
    "df_gusb_pool = df_gusb[df_gusb.zone == \"zwembad\"]\n",
    "df_gusb_pool = df_gusb_pool[df_gusb_pool[\"aantal aanwezigen\"] < 3_000].last(\"4D\")\n",
    "fig.add_trace(\n",
    "    go.Scattergl(\n",
    "        x=df_gusb_pool.index,\n",
    "        y=df_gusb_pool[\"aantal aanwezigen\"].astype(\"uint16\"),\n",
    "        mode=\"markers\",\n",
    "        marker_size=5,\n",
    "        name=\"occupancy\",\n",
    "        showlegend=True,\n",
    "    ),\n",
    "    hf_hovertext=\"mean last hour: \"\n",
    "    + df_gusb_pool[\"aantal aanwezigen\"].rolling(\"1h\").mean().astype(int).astype(str),\n",
    "    downsampler=EveryNthPoint(interleave_gaps=False),\n",
    "    row=1,\n",
    "    col=1,\n",
    ")\n",
    "fig.update_yaxes(title_text=\"Occupancy\", row=1, col=1)\n",
    "\n",
    "\n",
    "# ----------------- generated sine -----------\n",
    "fig.add_trace(\n",
    "    go.Scattergl(name=\"sin\", line_color=\"#26b2e0\"),\n",
    "    hf_x=x,\n",
    "    hf_y=np_series,\n",
    "    row=1,\n",
    "    col=2,\n",
    ")\n",
    "\n",
    "# ------------- Power consumption data -------------\n",
    "df_data_pc = df_data_pc.last(\"190D\")\n",
    "for i, c in enumerate(df_data_pc.columns):\n",
    "    fig.add_trace(\n",
    "        go.Scattergl(\n",
    "            name=f\"room {i+1}\",\n",
    "        ),\n",
    "        hf_x=df_data_pc.index,\n",
    "        hf_y=df_data_pc[c],\n",
    "        row=2,\n",
    "        col=1,\n",
    "        downsampler=LTTB(interleave_gaps=True),\n",
    "    )\n",
    "\n",
    "fig.update_layout(height=600)\n",
    "fig.update_yaxes(title_text=\"Watt/hour\", row=2, col=1)\n",
    "fig.update_layout(\n",
    "    title=\"<b>Plotly-Resampler demo</b>\",\n",
    "    title_x=0.5,\n",
    "    legend_traceorder=\"normal\",\n",
    ")\n",
    "\n",
    "fig.show_dash(mode=\"external\", debug=True, port=9033)\n"
   ]
  },
  {
   "cell_type": "markdown",
   "id": "dd77941a",
   "metadata": {},
   "source": [
    "# Skin conductance example"
   ]
  },
  {
   "cell_type": "code",
   "execution_count": 7,
   "id": "3cc6fef1",
   "metadata": {},
   "outputs": [],
   "source": [
    "df_gsr = pd.read_parquet('data/processed_gsr.parquet', engine='fastparquet')"
   ]
  },
  {
   "cell_type": "code",
   "execution_count": 7,
   "id": "71758f03",
   "metadata": {},
   "outputs": [
    {
     "name": "stdout",
     "output_type": "stream",
     "text": [
      "Dash app running on http://127.0.0.1:9022/\n"
     ]
    }
   ],
   "source": [
    "fig = FigureResampler(\n",
    "    make_subplots(\n",
    "        rows=2,\n",
    "        cols=1,\n",
    "        specs=[[{\"secondary_y\": True}], [{}]],\n",
    "        shared_xaxes=True,\n",
    "    ),\n",
    "    default_n_shown_samples=1_000,\n",
    "    verbose=False,\n",
    ")\n",
    "fig.update_layout(height=600)\n",
    "\n",
    "\n",
    "# -------------------------------- ROW 1 --------------------------------\n",
    "# Add the skin conductance signals\n",
    "for c in [\"EDA\", \"EDA_lf_cleaned\", \"EDA_lf_cleaned_tonic\"]:\n",
    "    fig.add_trace(go.Scattergl(name=c), hf_x=df_gsr.index, hf_y=df_gsr[c], row=1, col=1)\n",
    "\n",
    "\n",
    "# Show the Skin Conductance Response Peaks (SCR)\n",
    "df_peaks = df_gsr[df_gsr[\"SCR_Peaks_neurokit_reduced_acc\"] == 1]\n",
    "fig.add_trace(\n",
    "    trace=go.Scattergl(\n",
    "        x=df_peaks.index,\n",
    "        y=df_peaks[\"EDA_lf_cleaned\"],\n",
    "        visible=\"legendonly\",\n",
    "        mode=\"markers\",\n",
    "        marker_symbol=\"cross\",\n",
    "        marker_size=15,\n",
    "        marker_color=\"red\",\n",
    "        name=\"SCR peaks\",\n",
    "    ),\n",
    "    # Set limit_to_view to true so that the peaks dissapear when out-of view-range \n",
    "    # and thus not disturb the autoscale :)\n",
    "    limit_to_view=True,\n",
    ")\n",
    "\n",
    "\n",
    "# Display the Sking conductance Signal Quality As background \n",
    "df_grouped = groupby_consecutive(df_gsr[\"EDA_SQI\"])\n",
    "df_grouped[\"EDA_SQI\"] = df_grouped[\"EDA_SQI\"].map(bool)\n",
    "df_grouped[\"good_sqi\"] = df_grouped[\"EDA_SQI\"].map(int)\n",
    "df_grouped[\"bad_sqi\"] = (~df_grouped[\"EDA_SQI\"]).map(int)\n",
    "for sqi_col, col_or in [\n",
    "    (\"good_sqi\", \"#2ca02c\"),\n",
    "    (\"bad_sqi\", \"#d62728\"),\n",
    "]:\n",
    "    fig.add_trace(\n",
    "        go.Scattergl(\n",
    "            x=df_grouped[\"start\"],\n",
    "            y=df_grouped[sqi_col],\n",
    "            mode=\"lines\",\n",
    "            line_width=0,\n",
    "            fill=\"tozeroy\",\n",
    "            fillcolor=col_or,\n",
    "            opacity=0.1 if \"good\" in sqi_col else 0.2,\n",
    "            line_shape=\"hv\",\n",
    "            name=sqi_col,\n",
    "            showlegend=False,\n",
    "        ),\n",
    "        max_n_samples=len(df_grouped) + 1,\n",
    "        downsampler=EveryNthPoint(interleave_gaps=False),\n",
    "        limit_to_view=True,\n",
    "        secondary_y=True,\n",
    "    )\n",
    "\n",
    "\n",
    "# -------------------------------- ROW 2 --------------------------------\n",
    "# show the phasic EDA component\n",
    "fig.add_trace(\n",
    "    go.Scattergl(name=\"EDA_Phasic\", visible=\"legendonly\"),\n",
    "    hf_x=df_gsr.index,\n",
    "    hf_y=df_gsr[\"EDA_Phasic\"],\n",
    "    row=2,\n",
    "    col=1,\n",
    ")\n",
    "\n",
    "fig.show_dash(mode=\"external\", port=9022)"
   ]
  }
 ],
 "metadata": {
  "kernelspec": {
   "display_name": "Python 3 (ipykernel)",
   "language": "python",
   "name": "python3"
  },
  "language_info": {
   "codemirror_mode": {
    "name": "ipython",
    "version": 3
   },
   "file_extension": ".py",
   "mimetype": "text/x-python",
   "name": "python",
   "nbconvert_exporter": "python",
   "pygments_lexer": "ipython3",
   "version": "3.9.9"
  },
  "toc-autonumbering": true
 },
 "nbformat": 4,
 "nbformat_minor": 5
}
