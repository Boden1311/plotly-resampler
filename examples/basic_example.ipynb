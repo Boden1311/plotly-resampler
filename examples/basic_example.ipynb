{
 "cells": [
  {
   "cell_type": "code",
   "execution_count": null,
   "id": "6a8b1d54-106c-4f89-842d-c1aa0b136a42",
   "metadata": {},
   "outputs": [],
   "source": [
    "%load_ext autoreload\n",
    "%autoreload 2"
   ]
  },
  {
   "cell_type": "code",
   "execution_count": null,
   "id": "e42a2898-75c8-4e0a-af91-14a7d497e603",
   "metadata": {},
   "outputs": [],
   "source": [
    "from pathlib import Path\n",
    "import pandas as pd\n",
    "import numpy as np\n",
    "\n",
    "import plotly.graph_objects as go\n",
    "from plotly.subplots import make_subplots\n",
    "\n",
    "import sys\n",
    "sys.path.append('..')\n",
    "from plotly_resampler import FigureResampler\n",
    "from plotly_resampler.downsamplers import EveryNthPoint, LTTB"
   ]
  },
  {
   "cell_type": "code",
   "execution_count": null,
   "id": "7384c081-a733-41e5-a80c-99b7b31d0520",
   "metadata": {},
   "outputs": [],
   "source": [
    "df_gusb = pd.read_parquet(\"data/df_gusb.parquet\", engine='fastparquet')\n",
    "df_data_pc = pd.read_parquet(\"data/df_pc_test.parquet\", engine='fastparquet')\n",
    "\n",
    "n = 110_000_000\n",
    "np_series = np.array(\n",
    "    (3 + np.sin(np.arange(n) / 200_000) + np.random.randn(n) / 10) * np.arange(n) / 100_000,\n",
    "    dtype=np.float32,\n",
    ")\n",
    "x = np.arange(len(np_series))"
   ]
  },
  {
   "cell_type": "code",
   "execution_count": null,
   "id": "c1f1d9a2-63a1-484e-a346-ae6b04c997b6",
   "metadata": {
    "tags": []
   },
   "outputs": [],
   "source": [
    "fig = FigureResampler(\n",
    "    make_subplots(\n",
    "        rows=2, cols=2, \n",
    "        specs=[[{}, {}], [{\"colspan\": 2}, None]],\n",
    "        subplot_titles=(\"GUSB swimming pool\", \"Generated sine\", \"Power consumption\"),\n",
    "        vertical_spacing=0.12,\n",
    "    ), default_n_shown_samples=1000, verbose=True)\n",
    "\n",
    "\n",
    "# ------------ swimming pool data -----------\n",
    "df_gusb_pool = df_gusb[df_gusb.zone == \"zwembad\"]\n",
    "df_gusb_pool = df_gusb_pool[df_gusb_pool[\"aantal aanwezigen\"] < 3_000].last('4D')\n",
    "fig.add_trace(\n",
    "    go.Scattergl(\n",
    "        x=df_gusb_pool.index, \n",
    "        y=df_gusb_pool[\"aantal aanwezigen\"].astype('uint16'), \n",
    "        mode='markers',\n",
    "        marker_size=5,\n",
    "        name=\"occupancy\",\n",
    "        showlegend=True\n",
    "    ),\n",
    "    hf_hovertext='mean last hour: ' + df_gusb_pool[\"aantal aanwezigen\"].rolling('1h').mean().astype(int).astype(str),\n",
    "    downsampler=EveryNthPoint(interleave_gaps=False),\n",
    "    row=1,\n",
    "    col=1,\n",
    ")\n",
    "fig.update_yaxes(title_text='Occupancy', row=1, col=1)\n",
    "\n",
    "\n",
    "# ----------------- generated sine -----------\n",
    "fig.add_trace(\n",
    "    go.Scattergl(name=\"sin\", line_color='#26b2e0'),\n",
    "    hf_x=np.arange(len(np_series)),\n",
    "    hf_y=np_series,\n",
    "    row=1,\n",
    "    col=2,\n",
    ")\n",
    "\n",
    "# ------------- Power consumption data -------------\n",
    "df_data_pc = df_data_pc.last('190D')\n",
    "for i, c in enumerate(df_data_pc.columns):\n",
    "    fig.add_trace(\n",
    "        go.Scattergl(name=f\"room {i+1}\",),\n",
    "        hf_x=df_data_pc.index, hf_y=df_data_pc[c],\n",
    "        row=2, col=1,\n",
    "        downsampler=LTTB(interleave_gaps=True)\n",
    "    )\n",
    "\n",
    "fig.update_layout(height=600)\n",
    "fig.update_yaxes(title_text='Watt/hour', row=2, col=1)\n",
    "fig.update_layout(\n",
    "    title='<b>Plotly-Resampler demo</b>', title_x=0.5, legend_traceorder='normal',\n",
    ")\n",
    "\n",
    "fig.show_dash(mode='external', debug=True, port=9010)"
   ]
  }
 ],
 "metadata": {
  "kernelspec": {
   "display_name": "Python 3 (ipykernel)",
   "language": "python",
   "name": "python3"
  },
  "language_info": {
   "codemirror_mode": {
    "name": "ipython",
    "version": 3
   },
   "file_extension": ".py",
   "mimetype": "text/x-python",
   "name": "python",
   "nbconvert_exporter": "python",
   "pygments_lexer": "ipython3",
   "version": "3.8.10"
  },
  "toc-autonumbering": true
 },
 "nbformat": 4,
 "nbformat_minor": 5
}
